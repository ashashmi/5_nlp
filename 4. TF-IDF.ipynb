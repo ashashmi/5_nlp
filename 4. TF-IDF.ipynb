{
 "cells": [
  {
   "cell_type": "code",
   "execution_count": 11,
   "metadata": {},
   "outputs": [],
   "source": [
    "#Latent Semantic Indexing/Analysis (LSI/LSA)\n",
    "#Latent = hidden, Semantic = meaning\n",
    "# LSA aims to find hidden meaning/relations in text documents.\n",
    "# LSA is a technique of analyzing relationships between a set of documents and the terms they contain. \n",
    "# A matrix containing word counts per document (rows represent unique words and columns represent each document) is constructed from a large piece of text \n",
    "\n",
    "# TF-IDF is most popular method of LSI\n",
    "# TF-IDF: tf * idf\n",
    "# tf(t) = freq(t) / total_terms\n",
    "# idf(t) = idf(t) = log_e [ (1 + n) / (1 + df(t)) ] + 1\n",
    "\n",
    "# standardTFIDF vs sklearnTFIDF\n",
    "# https://towardsdatascience.com/how-sklearns-tf-idf-is-different-from-the-standard-tf-idf-275fa582e73d\n"
   ]
  },
  {
   "cell_type": "code",
   "execution_count": 12,
   "metadata": {},
   "outputs": [
    {
     "name": "stdout",
     "output_type": "stream",
     "text": [
      "['and', 'document', 'first', 'is', 'one', 'second', 'the', 'third', 'this']\n"
     ]
    }
   ],
   "source": [
    "from sklearn.feature_extraction.text import TfidfVectorizer\n",
    "corpus = [ 'This is the first document.', 'This document is the second document.', 'And this is the third one.', 'Is this the first document?']\n",
    "\n",
    "#vectorizer = TfidfVectorizer(norm='l2',use_idf=False) # gives TF only with L1 normalization\n",
    "vectorizer = TfidfVectorizer()   # gives TF-IDF with L2 normalization of TF\n",
    "\n",
    "X = vectorizer.fit_transform(corpus)\n",
    "print(vectorizer.get_feature_names())"
   ]
  },
  {
   "cell_type": "code",
   "execution_count": 13,
   "metadata": {},
   "outputs": [
    {
     "name": "stdout",
     "output_type": "stream",
     "text": [
      "(4, 9)\n",
      "  (0, 1)\t0.46979138557992045\n",
      "  (0, 2)\t0.5802858236844359\n",
      "  (0, 6)\t0.38408524091481483\n",
      "  (0, 3)\t0.38408524091481483\n",
      "  (0, 8)\t0.38408524091481483\n",
      "  (1, 5)\t0.5386476208856763\n",
      "  (1, 1)\t0.6876235979836938\n",
      "  (1, 6)\t0.281088674033753\n",
      "  (1, 3)\t0.281088674033753\n",
      "  (1, 8)\t0.281088674033753\n",
      "  (2, 4)\t0.511848512707169\n",
      "  (2, 7)\t0.511848512707169\n",
      "  (2, 0)\t0.511848512707169\n",
      "  (2, 6)\t0.267103787642168\n",
      "  (2, 3)\t0.267103787642168\n",
      "  (2, 8)\t0.267103787642168\n",
      "  (3, 1)\t0.46979138557992045\n",
      "  (3, 2)\t0.5802858236844359\n",
      "  (3, 6)\t0.38408524091481483\n",
      "  (3, 3)\t0.38408524091481483\n",
      "  (3, 8)\t0.38408524091481483\n"
     ]
    }
   ],
   "source": [
    "print(X.shape)\n",
    "print(X)"
   ]
  },
  {
   "cell_type": "code",
   "execution_count": 14,
   "metadata": {},
   "outputs": [],
   "source": [
    "# There are 4 documents/sentences - see corpus list above\n",
    "# There are 9 unique words in the corpus\n",
    "# So X has dimensions 4X9\n",
    "# (0,8) will refer to \"this\" i.e. 8th word of the vector in 0th sentence\n",
    "# (0,3) will refer to \"is\" i.e. 3rd word of the vector in 0th sentence\n",
    "# (0,6) will refer to \"the\" i.e. 6th word of the vector in 0th sentence\n",
    "# (0,2) will refer to \"first\" i.e. 2nd word of the vector in 0th sentence\n",
    "# (0,1) will refer to \"document\" i.e. 1st word of the vector in 0th sentence\n",
    "# tf(0,8) = 1/5  = 0.2 (as this appears only once in first document containing 5 words)\n",
    "# TF(0,8) = 0.2 / sqrt(0.04+0.04+0.04+0.04+0.04) = 0.2 / sqrt(0.2) = sqrt(0.2) = 0.447213595\n",
    "# IDF(0,8) = log_e(5/5)+1 = 1\n",
    "# TF-IDF(0,8) = TF(0,8)*IDF(0,8) =  0.447213595 * 1 = 0.447213595\n",
    "\n",
    "# tf(1,5) = 1/6 = 0.16\n",
    "# TF(1,5) = 0.16 / sqrt(0.0277+0.111+0.0277+0.0277+0.0277) = 0.35355339059327373 \n",
    "# IDF(1,5) = log_e(5/2)+1 = 1.916290731874155\n",
    "# TF-IDF(1,5) = 0.35355339059327373 * 1.916290731874155 = 0.6775110856165736\n",
    "# noarmalized(TFIDF) = 0.5386476208856763"
   ]
  }
 ],
 "metadata": {
  "kernelspec": {
   "display_name": "Python 3 (ipykernel)",
   "language": "python",
   "name": "python3"
  },
  "language_info": {
   "codemirror_mode": {
    "name": "ipython",
    "version": 3
   },
   "file_extension": ".py",
   "mimetype": "text/x-python",
   "name": "python",
   "nbconvert_exporter": "python",
   "pygments_lexer": "ipython3",
   "version": "3.9.7"
  }
 },
 "nbformat": 4,
 "nbformat_minor": 2
}
