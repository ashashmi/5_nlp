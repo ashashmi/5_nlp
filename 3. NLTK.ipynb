{
 "cells": [
  {
   "cell_type": "code",
   "execution_count": 1,
   "metadata": {},
   "outputs": [],
   "source": [
    "#!pip install nltk"
   ]
  },
  {
   "cell_type": "code",
   "execution_count": 2,
   "metadata": {},
   "outputs": [],
   "source": [
    "import nltk\n",
    "#nltk.download()           # only first time after installing nltk; a dialog box will open in diff window"
   ]
  },
  {
   "cell_type": "code",
   "execution_count": 3,
   "metadata": {},
   "outputs": [],
   "source": [
    "#. 1. Tokenize text and/or remove nouns, etc. from text by POS tagging\n",
    "#  2. Convert text to lowercase\n",
    "#  3. Remove full stops, commas, hyphens, question marks, exclamations, etc.\n",
    "#  4. Tokenize text\n",
    "#  5. Remove contractions e.g. isn't = is not\n",
    "#  6. Remove stop words like the, and, a, is, ...\n",
    "#  7. Lemmatize i.e. find base words for words in different forms e.g. lemma(cities) = city"
   ]
  },
  {
   "cell_type": "code",
   "execution_count": 4,
   "metadata": {},
   "outputs": [],
   "source": [
    "text=\"\"\"Hello Mr. Smith, how're you doing today? The weather is great, and city is awesome.\n",
    "The sky is pinkish-blue. You shouldn't be eating cardboard\"\"\""
   ]
  },
  {
   "cell_type": "code",
   "execution_count": 5,
   "metadata": {},
   "outputs": [
    {
     "data": {
      "text/plain": [
       "[\"Hello Mr. Smith, how're you doing today?\",\n",
       " 'The weather is great, and city is awesome.',\n",
       " 'The sky is pinkish-blue.',\n",
       " \"You shouldn't be eating cardboard\"]"
      ]
     },
     "execution_count": 5,
     "metadata": {},
     "output_type": "execute_result"
    }
   ],
   "source": [
    "# Sentence Tokenization \n",
    "from nltk.tokenize import sent_tokenize\n",
    "sentences = sent_tokenize(text)\n",
    "sentences"
   ]
  },
  {
   "cell_type": "code",
   "execution_count": 6,
   "metadata": {},
   "outputs": [
    {
     "data": {
      "text/plain": [
       "[\"how're\",\n",
       " 'you',\n",
       " 'doing',\n",
       " 'today?',\n",
       " 'The',\n",
       " 'weather',\n",
       " 'is',\n",
       " 'great,',\n",
       " 'and',\n",
       " 'city',\n",
       " 'is',\n",
       " 'awesome.',\n",
       " 'The',\n",
       " 'sky',\n",
       " 'is',\n",
       " 'pinkish-blue.',\n",
       " 'You',\n",
       " \"shouldn't\",\n",
       " 'be',\n",
       " 'eating',\n",
       " 'cardboard']"
      ]
     },
     "execution_count": 6,
     "metadata": {},
     "output_type": "execute_result"
    }
   ],
   "source": [
    "# Word Tokenization with POS (part-of-speech) tagging \n",
    "# e.g. to remove proper nouns (NNP) and plural proper nouns (NNPS) from text\n",
    "# Do this before converting text to lowercase\n",
    "from nltk.tag import pos_tag\n",
    "tagged_words = pos_tag(text.split())\n",
    "non_propernouns = [word for word,pos in tagged_words if pos!='NNP' and pos!='NNPS']\n",
    "non_propernouns"
   ]
  },
  {
   "cell_type": "code",
   "execution_count": 7,
   "metadata": {},
   "outputs": [
    {
     "name": "stdout",
     "output_type": "stream",
     "text": [
      "hello mr smith how're you doing today the weather is great and city is awesome\n",
      "the sky is pinkish blue you shouldn't be eating cardboard\n"
     ]
    },
    {
     "data": {
      "text/plain": [
       "['hello',\n",
       " 'mr',\n",
       " 'smith',\n",
       " \"how're\",\n",
       " 'you',\n",
       " 'doing',\n",
       " 'today',\n",
       " 'the',\n",
       " 'weather',\n",
       " 'is',\n",
       " 'great',\n",
       " 'and',\n",
       " 'city',\n",
       " 'is',\n",
       " 'awesome',\n",
       " 'the',\n",
       " 'sky',\n",
       " 'is',\n",
       " 'pinkish',\n",
       " 'blue',\n",
       " 'you',\n",
       " \"shouldn't\",\n",
       " 'be',\n",
       " 'eating',\n",
       " 'cardboard']"
      ]
     },
     "execution_count": 7,
     "metadata": {},
     "output_type": "execute_result"
    }
   ],
   "source": [
    "# Tokenization without POS tagging\n",
    "\n",
    "# Removing special characters\n",
    "import string\n",
    "text = text.lower()\n",
    "text = text.replace(\".\",\"\")\n",
    "text = text.replace(\",\",\"\")\n",
    "text = text.replace(\"?\",\"\")\n",
    "text = text.replace(\"-\",\" \")\n",
    "text = text.replace(\"!\",\" \")\n",
    "print(text)\n",
    "\n",
    "# Word Tokenization\n",
    "words = text.split()\n",
    "words"
   ]
  },
  {
   "cell_type": "code",
   "execution_count": 8,
   "metadata": {},
   "outputs": [],
   "source": [
    "contractions = {\n",
    "\"ain't\": \"is not\",\"aren't\": \"are not\",\"can't\": \"cannot\",\"can't've\": \"cannot have\",\"'cause\": \"because\",\n",
    " \"could've\": \"could have\",\"couldn't\": \"could not\",\"couldn't've\": \"could not have\",\"didn't\": \"did not\", \n",
    " \"doesn't\": \"does not\",\"don't\": \"do not\",\"hadn't\": \"had not\",\"hadn't've\": \"had not have\",\"hasn't\": \"has not\",\n",
    " \"haven't\": \"have not\",\"he'd\": \"he would\",\"he'd've\": \"he would have\",\"he'll\": \"he will\",\"he'll've\": \"he he will have\",\n",
    " \"he's\": \"he is\",\"how'd\": \"how did\",\"how'd'y\": \"how do you\",\"how'll\": \"how will\",\"how're\": \"how are\",\"how's\": \"how is\",\n",
    " \"I'd\": \"I would\", \"I'd've\": \"I would have\",\"I'll\": \"I will\",\"I'll've\": \"I will have\",\"I'm\": \"I am\",\"I've\": \"I have\",\n",
    " \"i'd\": \"i would\",\"i'd've\": \"i would have\",\"i'll\": \"i will\",\"i'll've\": \"i will have\",\"i'm\": \"i am\",\"i've\": \"i have\",\n",
    " \"isn't\": \"is not\",\"it'd\": \"it would\",\"it'd've\": \"it would have\",\"it'll\": \"it will\",\"it'll've\": \"it will have\",\n",
    " \"it's\": \"it is\",\"let's\": \"let us\",\"ma'am\": \"madam\",\"mayn't\": \"may not\",\"might've\": \"might have\",\"mightn't\": \"might not\",\n",
    " \"mightn't've\": \"might not have\",\"must've\": \"must have\",\"mustn't\": \"must not\",\"mustn't've\": \"must not have\",\n",
    " \"needn't\": \"need not\",\"needn't've\": \"need not have\",\"o'clock\": \"of the clock\",\"oughtn't\": \"ought not\",\n",
    " \"oughtn't've\": \"ought not have\",\"shan't\": \"shall not\",\"sha'n't\": \"shall not\",\"shan't've\": \"shall not have\",\n",
    " \"she'd\": \"she would\",\"she'd've\": \"she would have\",\"she'll\": \"she will\",\"she'll've\": \"she will have\",\n",
    " \"she's\": \"she is\",\"should've\": \"should have\",\"shouldn't\": \"should not\",\"shouldn't've\": \"should not have\",\n",
    " \"so've\": \"so have\",\"so's\": \"so as\",\"that'd\": \"that would\",\"that'd've\": \"that would have\",\"that's\": \"that is\",\n",
    " \"there'd\": \"there would\",\"there'd've\": \"there would have\",\"there's\": \"there is\",\"they'd\": \"they would\",\n",
    " \"they'd've\": \"they would have\",\"they'll\": \"they will\",\"they'll've\": \"they will have\",\"they're\": \"they are\",\n",
    " \"they've\": \"they have\",\"to've\": \"to have\",\"wasn't\": \"was not\",\"we'd\": \"we would\",\"we'd've\": \"we would have\",\n",
    " \"we'll\": \"we will\",\"we'll've\": \"we will have\",\"we're\": \"we are\",\"we've\": \"we have\",\"weren't\": \"were not\",\n",
    " \"what'll\": \"what will\",\"what'll've\": \"what will have\",\"what're\": \"what are\",\"what's\": \"what is\",\"what've\": \"what have\",\n",
    " \"when's\": \"when is\",\"when've\": \"when have\",\"where'd\": \"where did\",\"where's\": \"where is\",\"where've\": \"where have\",\n",
    " \"who'll\": \"who will\",\"who'll've\": \"who will have\",\"who's\": \"who is\",\"who've\": \"who have\",\"why's\": \"why is\",\n",
    " \"why've\": \"why have\",\"will've\": \"will have\",\"won't\": \"will not\",\"won't've\": \"will not have\",\"would've\": \"would have\",\n",
    " \"wouldn't\": \"would not\",\"wouldn't've\": \"would not have\",\"y'all\": \"you all\",\"y'all'd\": \"you all would\",\n",
    " \"y'all'd've\": \"you all would have\",\"y'all're\": \"you all are\",\"y'all've\": \"you all have\",\"you'd\": \"you would\",\n",
    " \"you'd've\": \"you would have\",\"you'll\": \"you will\",\"you'll've\": \"you will have\",\"you're\": \"you are\",\"you've\": \"you have\"\n",
    "}"
   ]
  },
  {
   "cell_type": "code",
   "execution_count": 9,
   "metadata": {},
   "outputs": [
    {
     "data": {
      "text/plain": [
       "['hello',\n",
       " 'mr',\n",
       " 'smith',\n",
       " 'how are',\n",
       " 'you',\n",
       " 'doing',\n",
       " 'today',\n",
       " 'the',\n",
       " 'weather',\n",
       " 'is',\n",
       " 'great',\n",
       " 'and',\n",
       " 'city',\n",
       " 'is',\n",
       " 'awesome',\n",
       " 'the',\n",
       " 'sky',\n",
       " 'is',\n",
       " 'pinkish',\n",
       " 'blue',\n",
       " 'you',\n",
       " 'should not',\n",
       " 'be',\n",
       " 'eating',\n",
       " 'cardboard']"
      ]
     },
     "execution_count": 9,
     "metadata": {},
     "output_type": "execute_result"
    }
   ],
   "source": [
    "words = [contractions.get(n, n) for n in words]\n",
    "words"
   ]
  },
  {
   "cell_type": "code",
   "execution_count": 10,
   "metadata": {},
   "outputs": [
    {
     "data": {
      "text/plain": [
       "'hello mr smith how are you doing today the weather is great and city is awesome the sky is pinkish blue you should not be eating cardboard'"
      ]
     },
     "execution_count": 10,
     "metadata": {},
     "output_type": "execute_result"
    }
   ],
   "source": [
    "text = ' '.join([str(word) for word in words])\n",
    "text"
   ]
  },
  {
   "cell_type": "code",
   "execution_count": 11,
   "metadata": {},
   "outputs": [
    {
     "data": {
      "text/plain": [
       "['hello',\n",
       " 'mr',\n",
       " 'smith',\n",
       " 'how',\n",
       " 'are',\n",
       " 'you',\n",
       " 'doing',\n",
       " 'today',\n",
       " 'the',\n",
       " 'weather',\n",
       " 'is',\n",
       " 'great',\n",
       " 'and',\n",
       " 'city',\n",
       " 'is',\n",
       " 'awesome',\n",
       " 'the',\n",
       " 'sky',\n",
       " 'is',\n",
       " 'pinkish',\n",
       " 'blue',\n",
       " 'you',\n",
       " 'should',\n",
       " 'not',\n",
       " 'be',\n",
       " 'eating',\n",
       " 'cardboard']"
      ]
     },
     "execution_count": 11,
     "metadata": {},
     "output_type": "execute_result"
    }
   ],
   "source": [
    "words = text.split()\n",
    "words"
   ]
  },
  {
   "cell_type": "code",
   "execution_count": 12,
   "metadata": {},
   "outputs": [
    {
     "data": {
      "text/plain": [
       "['hello',\n",
       " 'mr',\n",
       " 'smith',\n",
       " 'today',\n",
       " 'weather',\n",
       " 'great',\n",
       " 'city',\n",
       " 'awesome',\n",
       " 'sky',\n",
       " 'pinkish',\n",
       " 'blue',\n",
       " 'eating',\n",
       " 'cardboard']"
      ]
     },
     "execution_count": 12,
     "metadata": {},
     "output_type": "execute_result"
    }
   ],
   "source": [
    "# Removing stopwords\n",
    "from nltk.corpus import stopwords\n",
    "# print(stopwords.words('english'))\n",
    "stop_words = set(stopwords.words('english'))\n",
    "filtered_words = [w for w in words if not w in stop_words]\n",
    "filtered_words"
   ]
  },
  {
   "cell_type": "code",
   "execution_count": 13,
   "metadata": {},
   "outputs": [
    {
     "data": {
      "text/plain": [
       "['hello',\n",
       " 'mr',\n",
       " 'smith',\n",
       " 'today',\n",
       " 'weather',\n",
       " 'great',\n",
       " 'citi',\n",
       " 'awesom',\n",
       " 'sky',\n",
       " 'pinkish',\n",
       " 'blue',\n",
       " 'eat',\n",
       " 'cardboard']"
      ]
     },
     "execution_count": 13,
     "metadata": {},
     "output_type": "execute_result"
    }
   ],
   "source": [
    "# Stemming: finds stem of given word by chopping of suffix e.g. stem(cities)=citi\n",
    "from nltk.stem.porter import PorterStemmer\n",
    "porter_stemmer = PorterStemmer()\n",
    "stem_words = [porter_stemmer.stem(w) for w in filtered_words]\n",
    "stem_words"
   ]
  },
  {
   "cell_type": "code",
   "execution_count": 14,
   "metadata": {},
   "outputs": [
    {
     "data": {
      "text/plain": [
       "['hello',\n",
       " 'mr',\n",
       " 'smith',\n",
       " 'today',\n",
       " 'weather',\n",
       " 'great',\n",
       " 'city',\n",
       " 'awesome',\n",
       " 'sky',\n",
       " 'pinkish',\n",
       " 'blue',\n",
       " 'eating',\n",
       " 'cardboard']"
      ]
     },
     "execution_count": 14,
     "metadata": {},
     "output_type": "execute_result"
    }
   ],
   "source": [
    "# Lemmatization: better than stemming; finds actual base word e.g. lemma(cities)=city \n",
    "from nltk.stem import WordNetLemmatizer  \n",
    "lemmatizer = WordNetLemmatizer()\n",
    "lem_words = [lemmatizer.lemmatize(w) for w in filtered_words]\n",
    "lem_words"
   ]
  },
  {
   "cell_type": "code",
   "execution_count": 15,
   "metadata": {},
   "outputs": [
    {
     "data": {
      "text/plain": [
       "[('is', 3), ('you', 2)]"
      ]
     },
     "execution_count": 15,
     "metadata": {},
     "output_type": "execute_result"
    }
   ],
   "source": [
    "# Frequency distribution\n",
    "from nltk.probability import FreqDist\n",
    "fdist = FreqDist(words)\n",
    "fdist.most_common(2)"
   ]
  },
  {
   "cell_type": "code",
   "execution_count": 16,
   "metadata": {},
   "outputs": [
    {
     "data": {
      "image/png": "[encoded data removed]",
      "text/plain": [
       "<Figure size 432x288 with 1 Axes>"
      ]
     },
     "metadata": {
      "needs_background": "light"
     },
     "output_type": "display_data"
    }
   ],
   "source": [
    "# Frequency Distribution Plot\n",
    "import matplotlib.pyplot as plt\n",
    "fdist.plot(30,cumulative=False)\n",
    "plt.show()"
   ]
  },
  {
   "cell_type": "code",
   "execution_count": 17,
   "metadata": {},
   "outputs": [
    {
     "data": {
      "text/plain": [
       "FreqDist({('are', 'you'): 2, ('you', 'doing'): 2, ('doing', 'are'): 2, ('how', 'are'): 1})"
      ]
     },
     "execution_count": 17,
     "metadata": {},
     "output_type": "execute_result"
    }
   ],
   "source": [
    "# Bigrams and Trigrams\n",
    "\n",
    "#import nltk\n",
    "raw = \"how are you doing are you doing are\"\n",
    "\n",
    "tokens = nltk.word_tokenize(raw)\n",
    "\n",
    "#Create your bigrams\n",
    "bgs = nltk.bigrams(tokens)\n",
    "#compute frequency distribution for all the bigrams in the text\n",
    "fdist = nltk.FreqDist(bgs)\n",
    "fdist"
   ]
  },
  {
   "cell_type": "code",
   "execution_count": 18,
   "metadata": {},
   "outputs": [
    {
     "data": {
      "text/plain": [
       "FreqDist({('are', 'you', 'doing'): 2, ('you', 'doing', 'are'): 2, ('how', 'are', 'you'): 1, ('doing', 'are', 'you'): 1})"
      ]
     },
     "execution_count": 18,
     "metadata": {},
     "output_type": "execute_result"
    }
   ],
   "source": [
    "#Create your trigrams\n",
    "bgs = nltk.trigrams(tokens)\n",
    "#compute frequency distribution for all the bigrams in the text\n",
    "fdist = nltk.FreqDist(bgs)\n",
    "fdist"
   ]
  },
  {
   "cell_type": "code",
   "execution_count": 19,
   "metadata": {},
   "outputs": [
    {
     "data": {
      "text/plain": [
       "Counter({('how', 'are', 'you', 'doing'): 2,\n",
       "         ('are', 'you', 'doing', 'how'): 1,\n",
       "         ('you', 'doing', 'how', 'are'): 1,\n",
       "         ('doing', 'how', 'are', 'you'): 1})"
      ]
     },
     "execution_count": 19,
     "metadata": {},
     "output_type": "execute_result"
    }
   ],
   "source": [
    "import collections\n",
    "from nltk import ngrams\n",
    "\n",
    "sentence = 'how are you doing how are you doing'\n",
    "\n",
    "n = 4\n",
    "sixgrams = ngrams(sentence.split(), n)\n",
    "\n",
    "sixgramFreq = collections.Counter(sixgrams)\n",
    "sixgramFreq\n"
   ]
  },
  {
   "cell_type": "code",
   "execution_count": null,
   "metadata": {},
   "outputs": [],
   "source": []
  }
 ],
 "metadata": {
  "kernelspec": {
   "display_name": "Python 3 (ipykernel)",
   "language": "python",
   "name": "python3"
  },
  "language_info": {
   "codemirror_mode": {
    "name": "ipython",
    "version": 3
   },
   "file_extension": ".py",
   "mimetype": "text/x-python",
   "name": "python",
   "nbconvert_exporter": "python",
   "pygments_lexer": "ipython3",
   "version": "3.9.7"
  }
 },
 "nbformat": 4,
 "nbformat_minor": 2
}
