{
 "cells": [
  {
   "cell_type": "code",
   "execution_count": 1,
   "metadata": {},
   "outputs": [],
   "source": [
    "#!pip install beautifulsoup4"
   ]
  },
  {
   "cell_type": "code",
   "execution_count": 2,
   "metadata": {},
   "outputs": [],
   "source": [
    "# Retrieve all text from a wikipedia page\n",
    "import bs4 as bs\n",
    "import urllib.request\n",
    "import re\n",
    "import nltk\n",
    "\n",
    "scrapped_data = urllib.request.urlopen('https://en.wikipedia.org/wiki/Artificial_intelligence')\n",
    "article = scrapped_data.read()\n",
    "\n",
    "parsed_article = bs.BeautifulSoup(article,'lxml')\n",
    "\n",
    "paragraphs = parsed_article.find_all('p')\n",
    "\n",
    "article_text = \"\"\n",
    "\n",
    "for p in paragraphs:\n",
    "    article_text += p.text\n",
    "\n",
    "#article_text"
   ]
  },
  {
   "cell_type": "code",
   "execution_count": 3,
   "metadata": {},
   "outputs": [
    {
     "name": "stdout",
     "output_type": "stream",
     "text": [
      "<http.client.HTTPResponse object at 0x0000026D761227F0>\n"
     ]
    },
    {
     "data": {
      "text/plain": [
       "'₹26,999'"
      ]
     },
     "execution_count": 3,
     "metadata": {},
     "output_type": "execute_result"
    }
   ],
   "source": [
    "# Retrieve price of an item on a flipkart page\n",
    "import bs4\n",
    "import urllib.request as url\n",
    "path =  \"https://www.flipkart.com/mi-4a-pro-108-cm-43-inch-full-hd-led-smart-android-tv-google-data-saver/p/itmfbzck4mhggxxg\"\n",
    "resp = url.urlopen(path)\n",
    "print(resp)\n",
    "# lxml = library xml, parser\n",
    "page = bs4.BeautifulSoup(resp,'lxml')\n",
    "# dont print page variable as it will display html content of whole page\n",
    "title1=page.find('div',class_='_30jeq3 _16Jk6d') # identify the div tag whose value is needed\n",
    "title1.text\n",
    "#title2=page.find('span',class_='_35KyD6')\n",
    "#title2.text\n",
    "# Notice _ after class keyword as it is an html class not a python class\n",
    "#title3=page.find('div',class_='_1vC4OE _3qQ9m1')\n",
    "#title3.text"
   ]
  },
  {
   "cell_type": "code",
   "execution_count": 4,
   "metadata": {},
   "outputs": [
    {
     "name": "stdout",
     "output_type": "stream",
     "text": [
      "SAMSUNG The Frame 2021 Series 163 cm (65 inch) QLED Ultra HD (4K) Smart TV\n",
      "₹1,19,990\n",
      "Adsun 98.9 cm (39 inch) HD Ready LED Smart TV\n",
      "₹13,999\n",
      "LG 80 cm (32 inch) HD Ready LED Smart TV\n",
      "₹17,499\n",
      "SAMSUNG 80 cm (32 inch) HD Ready LED Smart TV\n",
      "₹16,999\n",
      "Mi 5X 108 cm (43 inch) Ultra HD (4K) LED Smart Android TV with Dolby Atmos and Dolby Vision\n",
      "₹31,999\n",
      "OnePlus Y1 108 cm (43 inch) Full HD LED Smart Android TV\n",
      "₹25,499\n",
      "OnePlus Y1 100 cm (40 inch) Full HD LED Smart Android TV\n",
      "₹22,999\n",
      "SAMSUNG The Frame 2021 Series 138 cm (55 inch) QLED Ultra HD (4K) Smart TV\n",
      "₹88,900\n",
      "OnePlus Y1 80 cm (32 inch) HD Ready LED Smart Android TV\n",
      "₹15,999\n",
      "MarQ By Flipkart 80 cm (32 inch) HD Ready LED TV\n",
      "₹8,999\n",
      "Adsun 80 cm (32 inch) HD Ready LED Smart TV\n",
      "₹9,499\n",
      "SAMSUNG The Frame 2021 Series 108 cm (43 inch) QLED Ultra HD (4K) Smart TV\n",
      "₹58,990\n",
      "Vu Premium TV 80 cm (32 inch) HD Ready LED Smart TV with Bezel-Less Frame\n",
      "₹12,999\n",
      "MarQ By Flipkart 60 cm (24 inch) HD Ready LED TV\n",
      "₹6,999\n",
      "OnePlus Y1S 80 cm (32 inch) HD Ready LED Smart Android TV\n",
      "₹16,499\n",
      "SAMSUNG The Frame 2021 Series 125 cm (50 inch) QLED Ultra HD (4K) Smart TV\n",
      "₹73,990\n",
      "Vu Premium 108 cm (43 inch) Full HD LED Smart Android TV\n",
      "₹22,999\n",
      "realme 80 cm (32 inch) HD Ready LED Smart Android TV\n",
      "₹15,999\n",
      "Infinix X3 80 cm (32 inch) HD Ready LED Smart Android TV\n",
      "₹11,999\n",
      "T-Series 98 cm (40 inch) HD Ready LED Smart Android TV\n",
      "₹19,999\n",
      "Mi 4A Horizon Edition 108 cm (43 inch) Full HD LED Smart Android TV\n",
      "₹25,999\n",
      "Mi 4A PRO 80 cm (32 inch) HD Ready LED Smart Android TV\n",
      "₹16,499\n",
      "Mi 5X 125.7 cm (50 inch) Ultra HD (4K) LED Smart Android TV with Dolby Atmos and Dolby Vision\n",
      "₹40,999\n",
      "T-Series 109 cm (43 inch) Full HD LED Smart TV\n",
      "₹26,999\n"
     ]
    }
   ],
   "source": [
    "# Retrieve prices of items on a flipkart search page\n",
    "path = \"https://www.flipkart.com/search?q=tv&sid=ckf%2Cczl&as=on&as-show=on&otracker=AS_QueryStore_OrganicAutoSuggest_1_2_na_na_na&otracker1=AS_QueryStore_OrganicAutoSuggest_1_2_na_na_na&as-pos=1&as-type=RECENT&suggestionId=tv%7CTVs&requestId=474cc2f9-7aad-4de4-b60a-4674b445460c&as-searchtext=tv\"\n",
    "resp = url.urlopen(path)\n",
    "page = bs4.BeautifulSoup(resp,'lxml')\n",
    "titles=page.find_all('div',class_='_4rR01T')           # identify the div tag containing the price\n",
    "prices=page.find_all('div',class_='_30jeq3 _1_WHN1')   # identify the div tag containing the title\n",
    "len(titles)\n",
    "for i in range(len(titles)):\n",
    "    print(titles[i].text)\n",
    "    print(prices[i].text)"
   ]
  },
  {
   "cell_type": "code",
   "execution_count": 5,
   "metadata": {},
   "outputs": [
    {
     "data": {
      "text/html": [
       "<div>\n",
       "<style scoped>\n",
       "    .dataframe tbody tr th:only-of-type {\n",
       "        vertical-align: middle;\n",
       "    }\n",
       "\n",
       "    .dataframe tbody tr th {\n",
       "        vertical-align: top;\n",
       "    }\n",
       "\n",
       "    .dataframe thead th {\n",
       "        text-align: right;\n",
       "    }\n",
       "</style>\n",
       "<table border=\"1\" class=\"dataframe\">\n",
       "  <thead>\n",
       "    <tr style=\"text-align: right;\">\n",
       "      <th></th>\n",
       "      <th>title</th>\n",
       "      <th>price</th>\n",
       "    </tr>\n",
       "  </thead>\n",
       "  <tbody>\n",
       "    <tr>\n",
       "      <th>0</th>\n",
       "      <td>SAMSUNG The Frame 2021 Series 163 cm (65 inch)...</td>\n",
       "      <td>₹1,19,990</td>\n",
       "    </tr>\n",
       "    <tr>\n",
       "      <th>1</th>\n",
       "      <td>Adsun 98.9 cm (39 inch) HD Ready LED Smart TV</td>\n",
       "      <td>₹13,999</td>\n",
       "    </tr>\n",
       "    <tr>\n",
       "      <th>2</th>\n",
       "      <td>LG 80 cm (32 inch) HD Ready LED Smart TV</td>\n",
       "      <td>₹17,499</td>\n",
       "    </tr>\n",
       "    <tr>\n",
       "      <th>3</th>\n",
       "      <td>SAMSUNG 80 cm (32 inch) HD Ready LED Smart TV</td>\n",
       "      <td>₹16,999</td>\n",
       "    </tr>\n",
       "    <tr>\n",
       "      <th>4</th>\n",
       "      <td>Mi 5X 108 cm (43 inch) Ultra HD (4K) LED Smart...</td>\n",
       "      <td>₹31,999</td>\n",
       "    </tr>\n",
       "    <tr>\n",
       "      <th>5</th>\n",
       "      <td>OnePlus Y1 108 cm (43 inch) Full HD LED Smart ...</td>\n",
       "      <td>₹25,499</td>\n",
       "    </tr>\n",
       "    <tr>\n",
       "      <th>6</th>\n",
       "      <td>OnePlus Y1 100 cm (40 inch) Full HD LED Smart ...</td>\n",
       "      <td>₹22,999</td>\n",
       "    </tr>\n",
       "    <tr>\n",
       "      <th>7</th>\n",
       "      <td>SAMSUNG The Frame 2021 Series 138 cm (55 inch)...</td>\n",
       "      <td>₹88,900</td>\n",
       "    </tr>\n",
       "    <tr>\n",
       "      <th>8</th>\n",
       "      <td>OnePlus Y1 80 cm (32 inch) HD Ready LED Smart ...</td>\n",
       "      <td>₹15,999</td>\n",
       "    </tr>\n",
       "    <tr>\n",
       "      <th>9</th>\n",
       "      <td>MarQ By Flipkart 80 cm (32 inch) HD Ready LED TV</td>\n",
       "      <td>₹8,999</td>\n",
       "    </tr>\n",
       "  </tbody>\n",
       "</table>\n",
       "</div>"
      ],
      "text/plain": [
       "                                               title      price\n",
       "0  SAMSUNG The Frame 2021 Series 163 cm (65 inch)...  ₹1,19,990\n",
       "1      Adsun 98.9 cm (39 inch) HD Ready LED Smart TV    ₹13,999\n",
       "2           LG 80 cm (32 inch) HD Ready LED Smart TV    ₹17,499\n",
       "3      SAMSUNG 80 cm (32 inch) HD Ready LED Smart TV    ₹16,999\n",
       "4  Mi 5X 108 cm (43 inch) Ultra HD (4K) LED Smart...    ₹31,999\n",
       "5  OnePlus Y1 108 cm (43 inch) Full HD LED Smart ...    ₹25,499\n",
       "6  OnePlus Y1 100 cm (40 inch) Full HD LED Smart ...    ₹22,999\n",
       "7  SAMSUNG The Frame 2021 Series 138 cm (55 inch)...    ₹88,900\n",
       "8  OnePlus Y1 80 cm (32 inch) HD Ready LED Smart ...    ₹15,999\n",
       "9   MarQ By Flipkart 80 cm (32 inch) HD Ready LED TV     ₹8,999"
      ]
     },
     "execution_count": 5,
     "metadata": {},
     "output_type": "execute_result"
    }
   ],
   "source": [
    "# convert scraped items into a pandas dataset\n",
    "dataset={\"title\":[],\"price\":[]}    \n",
    "for j in range(len(titles)):\n",
    "    dataset[\"title\"].append(titles[j].text)\n",
    "    dataset[\"price\"].append(prices[j].text)\n",
    "\n",
    "import pandas as pd\n",
    "df=pd.DataFrame(dataset)\n",
    "df.shape\n",
    "df.head(10)"
   ]
  },
  {
   "cell_type": "code",
   "execution_count": null,
   "metadata": {},
   "outputs": [],
   "source": []
  }
 ],
 "metadata": {
  "kernelspec": {
   "display_name": "Python 3 (ipykernel)",
   "language": "python",
   "name": "python3"
  },
  "language_info": {
   "codemirror_mode": {
    "name": "ipython",
    "version": 3
   },
   "file_extension": ".py",
   "mimetype": "text/x-python",
   "name": "python",
   "nbconvert_exporter": "python",
   "pygments_lexer": "ipython3",
   "version": "3.9.7"
  }
 },
 "nbformat": 4,
 "nbformat_minor": 2
}
