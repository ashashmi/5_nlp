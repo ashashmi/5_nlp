{
 "cells": [
  {
   "cell_type": "code",
   "execution_count": 1,
   "metadata": {},
   "outputs": [],
   "source": [
    "import re           # re = regular expression\n",
    "# re.sub(r\"old\", r\"new\",str) will replace/substitute oldpattern with newpattern (all instances) in string str\n",
    "# re.sub(r'old', r'new',str) can also be used if the old/new pattern contains \" inside them "
   ]
  },
  {
   "cell_type": "code",
   "execution_count": 2,
   "metadata": {},
   "outputs": [
    {
     "data": {
      "text/plain": [
       "'i am  fine '"
      ]
     },
     "execution_count": 2,
     "metadata": {},
     "output_type": "execute_result"
    }
   ],
   "source": [
    "t = \"i'm fine \"\n",
    "t = re.sub(r\"i'm\",r'i am ',t)  # sub = substitute \n",
    "t"
   ]
  },
  {
   "cell_type": "code",
   "execution_count": 3,
   "metadata": {},
   "outputs": [
    {
     "data": {
      "text/plain": [
       "'i m fi ne'"
      ]
     },
     "execution_count": 3,
     "metadata": {},
     "output_type": "execute_result"
    }
   ],
   "source": [
    "t = \"i'm fi'ne\"\n",
    "t=re.sub(r\"'\",r' ',t)\n",
    "t"
   ]
  },
  {
   "cell_type": "code",
   "execution_count": 4,
   "metadata": {},
   "outputs": [],
   "source": [
    "#(?P<name>substring) : substring is assigned a symbolic name\n",
    "# \\g<name> : global\n",
    "# \\w : word, \\d : digits/number\n",
    "# \\b : beginning; finds/matches the pattern at the beginning or end of each word.\n",
    "# \\< : in beginning only\n",
    "# \\> : in end only"
   ]
  },
  {
   "cell_type": "code",
   "execution_count": 5,
   "metadata": {},
   "outputs": [],
   "source": [
    "# (?P<f>\\w) : Each word is treated as string and assigned symbolic name f\n",
    "# r'\\g : replace globally\n",
    "\n",
    "t=re.sub(r'(?P<f>\\w),'           ,        r'\\g<f> , ',            t) # a, b --> a , b\n",
    "t=re.sub(r',(?P<f>\\w)'           ,        r', \\g<f>',             t) # a ,b --> a , b\n",
    "t=re.sub(r'(?P<f>\\w)\\?'          ,        r'\\g<f> ?',             t) # f? --> f ?\n",
    "t=re.sub(r'\\?(?P<f>\\w)'          ,        r'? \\g<f> ',            t) # ?f --> ? f\n",
    "t=re.sub(r'(?P<f>\\w) \\. com'     ,        r'\\g<f>.com ',          t) # h . com->h.com\n",
    "\n",
    "t=re.sub(r'(?P<f>\\d) , (?P<s>\\d)',        r'\\g<f>,\\g<s>',         t) # 45 , 25-->45,25"
   ]
  },
  {
   "cell_type": "code",
   "execution_count": 6,
   "metadata": {},
   "outputs": [],
   "source": [
    "# . refers to any character\n",
    "# a*  means 0 or more continuous occurrence of a\n",
    "# a+  means 1 or more continuous occurrence of a\n",
    "# a?  means 0 or 1 occurrence of a\n",
    "# a{2,5} means 2 to 5 continuous occurrence of a"
   ]
  },
  {
   "cell_type": "code",
   "execution_count": 7,
   "metadata": {},
   "outputs": [],
   "source": [
    "# [] specifies a set of characters you wish to match e.g. [a-zA-Z] refers to string of lower and uppercase alphabets\n",
    "# [^abc] refers to any set of characters except a, b and c\n",
    "# \\1 means first paranethetic expression\n",
    "# \\ is for escaping i.e. use a regex operator symbol (like .) as a normal character\n",
    "\n",
    "t = re.sub(r'[\\.]{1,}'   ,   r'.'   , t)    # ....  -->   .\n",
    "t = re.sub(r'[\\?]{1,}'   ,   r'?'   , t)    # ????  -->   ?\n",
    "t = re.sub(r'\\[.{1,}\\]'   ,   r' '   , t)   # Replace one or more characters inside square brackets with blank\n",
    "\n",
    "t=re.sub(r\"[-\\\"\\@\\\\#=><\\+%‘\\^/&’*_~\\»;!]\",' ',t) # remove all symbols\n",
    "# The symbols which need escaping are  \"  \\  ^  .  @  + \n",
    "\n",
    "t=re.sub('\\(\\w{1,30}\\)',' ',t)    # remove any word (of length 1-30) enclosed inside parnthesis\n",
    "t=re.sub('[\\(|\\)]',' ',t)         # remove opening prenthesis, closing parenthesis, and vertical bar"
   ]
  },
  {
   "cell_type": "code",
   "execution_count": 8,
   "metadata": {},
   "outputs": [],
   "source": [
    "# \\1 means first parenthetic expression; this notation is used in second part of regex and refers to first part of regex\n",
    "\n",
    "t=re.sub(r'(\\w):',r'\\1 :',t) #c:-->c :\n",
    "t=re.sub(r':(\\w)',r': \\1 :',t) #:c-->: c\n",
    "# The first parenthetic expression above is \\w i.e. a word \n",
    "t=re.sub(r\"(\\w)'s\",r\"\\1 's\",t)#franci's-->franci 's   \n",
    "t=re.sub(r\"'\\s\",r\" \",t)#francis'-->francis \n",
    "\n",
    "t=re.sub(r'\\.(\\b)',r'. \\1',t) #.he-->. he \n",
    "t=re.sub(r'(\\b)\\.',r'\\1 .',t) #he.-->he .\n",
    "# The first parenthetic expression above is \\b i.e. any word beginning or ending with the given symbol  \n",
    "\n",
    "t=re.sub(r'\\b([a-z]{1,2})\\.',r'\\1 ',t)#l. st. --> l st\n",
    "# The first parenthetic expression above is any 1-2 letter word beginning or ending with the given symbol"
   ]
  }
 ],
 "metadata": {
  "kernelspec": {
   "display_name": "Python 3 (ipykernel)",
   "language": "python",
   "name": "python3"
  },
  "language_info": {
   "codemirror_mode": {
    "name": "ipython",
    "version": 3
   },
   "file_extension": ".py",
   "mimetype": "text/x-python",
   "name": "python",
   "nbconvert_exporter": "python",
   "pygments_lexer": "ipython3",
   "version": "3.9.7"
  }
 },
 "nbformat": 4,
 "nbformat_minor": 2
}
